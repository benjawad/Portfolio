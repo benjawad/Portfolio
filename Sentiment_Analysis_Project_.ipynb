{
  "nbformat": 4,
  "nbformat_minor": 0,
  "metadata": {
    "colab": {
      "provenance": [],
      "authorship_tag": "ABX9TyPUF2tG/uRz+nyainKSxfBj",
      "include_colab_link": true
    },
    "kernelspec": {
      "name": "python3",
      "display_name": "Python 3"
    },
    "language_info": {
      "name": "python"
    }
  },
  "cells": [
    {
      "cell_type": "markdown",
      "metadata": {
        "id": "view-in-github",
        "colab_type": "text"
      },
      "source": [
        "<a href=\"https://colab.research.google.com/github/benjawad/Portfolio/blob/main/Sentiment_Analysis_Project_.ipynb\" target=\"_parent\"><img src=\"https://colab.research.google.com/assets/colab-badge.svg\" alt=\"Open In Colab\"/></a>"
      ]
    },
    {
      "cell_type": "code",
      "execution_count": 1,
      "metadata": {
        "id": "ohmg-vjlI7aT",
        "colab": {
          "base_uri": "https://localhost:8080/"
        },
        "outputId": "e076b43c-5f41-4e9e-ea3a-cfde498b6a83"
      },
      "outputs": [
        {
          "output_type": "stream",
          "name": "stdout",
          "text": [
            "hello world \n"
          ]
        }
      ],
      "source": [
        "print(\"hello world \")"
      ]
    },
    {
      "cell_type": "code",
      "source": [],
      "metadata": {
        "id": "HfxgpITHMCYd"
      },
      "execution_count": null,
      "outputs": []
    }
  ]
}